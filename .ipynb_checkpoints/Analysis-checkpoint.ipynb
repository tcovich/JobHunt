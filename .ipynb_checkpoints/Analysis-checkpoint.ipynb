{
 "cells": [
  {
   "cell_type": "code",
   "execution_count": 1,
   "id": "fb8f10f5",
   "metadata": {},
   "outputs": [],
   "source": [
    "import pandas as pd\n",
    "import numpy as np\n",
    "import matplotlib as mp"
   ]
  },
  {
   "cell_type": "code",
   "execution_count": 2,
   "id": "e24e7b5c",
   "metadata": {},
   "outputs": [],
   "source": [
    "data = pd.read_csv('./data/JobHuntData.csv')"
   ]
  },
  {
   "cell_type": "code",
   "execution_count": 3,
   "id": "37e01425",
   "metadata": {},
   "outputs": [
    {
     "data": {
      "text/html": [
       "<div>\n",
       "<style scoped>\n",
       "    .dataframe tbody tr th:only-of-type {\n",
       "        vertical-align: middle;\n",
       "    }\n",
       "\n",
       "    .dataframe tbody tr th {\n",
       "        vertical-align: top;\n",
       "    }\n",
       "\n",
       "    .dataframe thead th {\n",
       "        text-align: right;\n",
       "    }\n",
       "</style>\n",
       "<table border=\"1\" class=\"dataframe\">\n",
       "  <thead>\n",
       "    <tr style=\"text-align: right;\">\n",
       "      <th></th>\n",
       "      <th>Company</th>\n",
       "      <th>Date Applied</th>\n",
       "      <th>Date of Response</th>\n",
       "      <th>Role name</th>\n",
       "      <th>Role type</th>\n",
       "      <th>Industry</th>\n",
       "    </tr>\n",
       "  </thead>\n",
       "  <tbody>\n",
       "    <tr>\n",
       "      <th>0</th>\n",
       "      <td>Yard Stick PBC</td>\n",
       "      <td>4/20/24</td>\n",
       "      <td>NaN</td>\n",
       "      <td>Data Scientist</td>\n",
       "      <td>Remote</td>\n",
       "      <td>Ag-tech</td>\n",
       "    </tr>\n",
       "    <tr>\n",
       "      <th>1</th>\n",
       "      <td>PexaPark</td>\n",
       "      <td>4/20/24</td>\n",
       "      <td>NaN</td>\n",
       "      <td>ML Intern</td>\n",
       "      <td>In-person</td>\n",
       "      <td>Energy</td>\n",
       "    </tr>\n",
       "    <tr>\n",
       "      <th>2</th>\n",
       "      <td>EnergyHub</td>\n",
       "      <td>4/20/24</td>\n",
       "      <td>NaN</td>\n",
       "      <td>Data Engineering Intern</td>\n",
       "      <td>In-person</td>\n",
       "      <td>Energy</td>\n",
       "    </tr>\n",
       "    <tr>\n",
       "      <th>3</th>\n",
       "      <td>University of Washington</td>\n",
       "      <td>4/18/24</td>\n",
       "      <td>NaN</td>\n",
       "      <td>Business Intelligence Analyst</td>\n",
       "      <td>In-person</td>\n",
       "      <td>Education</td>\n",
       "    </tr>\n",
       "    <tr>\n",
       "      <th>4</th>\n",
       "      <td>University of Washington</td>\n",
       "      <td>4/18/24</td>\n",
       "      <td>NaN</td>\n",
       "      <td>Data Analyst</td>\n",
       "      <td>In-person</td>\n",
       "      <td>Research</td>\n",
       "    </tr>\n",
       "  </tbody>\n",
       "</table>\n",
       "</div>"
      ],
      "text/plain": [
       "                    Company Date Applied  Date of Response  \\\n",
       "0            Yard Stick PBC      4/20/24               NaN   \n",
       "1                  PexaPark      4/20/24               NaN   \n",
       "2                 EnergyHub      4/20/24               NaN   \n",
       "3  University of Washington      4/18/24               NaN   \n",
       "4  University of Washington      4/18/24               NaN   \n",
       "\n",
       "                       Role name  Role type   Industry  \n",
       "0                 Data Scientist     Remote    Ag-tech  \n",
       "1                      ML Intern  In-person     Energy  \n",
       "2        Data Engineering Intern  In-person     Energy  \n",
       "3  Business Intelligence Analyst  In-person  Education  \n",
       "4                   Data Analyst  In-person   Research  "
      ]
     },
     "execution_count": 3,
     "metadata": {},
     "output_type": "execute_result"
    }
   ],
   "source": [
    "data.head()"
   ]
  },
  {
   "cell_type": "code",
   "execution_count": 4,
   "id": "bbeb7b13",
   "metadata": {},
   "outputs": [
    {
     "data": {
      "text/plain": [
       "Company             0\n",
       "Date Applied        0\n",
       "Date of Response    7\n",
       "Role name           0\n",
       "Role type           0\n",
       "Industry            0\n",
       "dtype: int64"
      ]
     },
     "execution_count": 4,
     "metadata": {},
     "output_type": "execute_result"
    }
   ],
   "source": [
    "data.isnull().sum()"
   ]
  },
  {
   "cell_type": "code",
   "execution_count": null,
   "id": "cf878d00",
   "metadata": {},
   "outputs": [],
   "source": []
  }
 ],
 "metadata": {
  "kernelspec": {
   "display_name": "Python 3 (ipykernel)",
   "language": "python",
   "name": "python3"
  },
  "language_info": {
   "codemirror_mode": {
    "name": "ipython",
    "version": 3
   },
   "file_extension": ".py",
   "mimetype": "text/x-python",
   "name": "python",
   "nbconvert_exporter": "python",
   "pygments_lexer": "ipython3",
   "version": "3.9.7"
  }
 },
 "nbformat": 4,
 "nbformat_minor": 5
}
